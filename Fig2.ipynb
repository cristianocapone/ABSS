{
 "cells": [
  {
   "cell_type": "code",
   "execution_count": 1,
   "metadata": {},
   "outputs": [],
   "source": [
    "import numpy as np\n",
    "from scipy.special import softmax\n",
    "from matplotlib import pyplot as plt\n",
    "from tqdm import tqdm\n",
    "from copy import deepcopy\n",
    "import pandas as pd"
   ]
  },
  {
   "cell_type": "markdown",
   "metadata": {},
   "source": [
    "## Define Bandit Envirorment and Training"
   ]
  },
  {
   "cell_type": "code",
   "execution_count": 2,
   "metadata": {},
   "outputs": [],
   "source": [
    "class BernoulliBandit:\n",
    "    \"\"\"\n",
    "    Class that implements a multi armed bandits where the reward of each arm is bernoulli distributed\n",
    "    \"\"\"\n",
    "\n",
    "    def __init__ (self, probs):\n",
    "        \"\"\"\n",
    "        probs: np.array that contains the expected reward for each arm\n",
    "        \"\"\"\n",
    "        self.probs = probs\n",
    "        self.n_arms = probs.shape[0]\n",
    "    def pull_arm(self, idx):\n",
    "        return int(np.random.random() < self.probs[idx])"
   ]
  },
  {
   "cell_type": "code",
   "execution_count": 3,
   "metadata": {},
   "outputs": [],
   "source": [
    "def get_training_data(bandit, n_steps, learning_rate = 0.01, n_streams=1, cv=0.5):\n",
    "    n_arms = bandit.n_arms\n",
    "    reward_history = []\n",
    "    action_history = []\n",
    "    Wpolicy_history = []\n",
    "    dWpolicy_history = []\n",
    "    for j in range(n_streams):\n",
    "        Wpolicy = np.ones(n_arms)\n",
    "        for i in range(n_steps):\n",
    "            Wpolicy_history.append(np.copy(Wpolicy))\n",
    "            # choose action sampling from policy\n",
    "            action = np.random.choice(n_arms, p=softmax(Wpolicy))\n",
    "            # get reward from bandit \n",
    "            reward = bandit.pull_arm(action)\n",
    "            # update policy\n",
    "            delta_a = np.arange(n_arms) == action\n",
    "            dWpolicy = (reward-cv)*(softmax(Wpolicy) - delta_a)\n",
    "            Wpolicy +=  -learning_rate*dWpolicy\n",
    "            # save to create dataset \n",
    "            reward_history.append(reward)\n",
    "            dWpolicy_history.append(dWpolicy)\n",
    "            action_history.append(action)\n",
    "        \n",
    "\n",
    "    rewards = np.stack(reward_history)[:, None]\n",
    "    actions = np.stack(action_history)\n",
    "    Wpolicies = np.stack(Wpolicy_history)\n",
    "    dWpolicies = np.stack(dWpolicy_history)\n",
    "    actions = (np.arange(n_arms)[None,:] == actions[:, None])*1\n",
    "\n",
    "    return rewards, actions, Wpolicies, dWpolicies"
   ]
  },
  {
   "cell_type": "markdown",
   "metadata": {},
   "source": [
    "## Test policy gradient"
   ]
  },
  {
   "cell_type": "code",
   "execution_count": 4,
   "metadata": {},
   "outputs": [],
   "source": [
    "n_arms = 10\n",
    "p=0.95\n",
    "probs = (np.arange(n_arms) % 3 == 0)*p + (np.arange(n_arms) % 3 != 0)*(1-p)\n",
    "probs = (np.arange(n_arms) % 2 == 0)*p + (np.arange(n_arms) % 2 == 1)*(1-p)\n",
    "bandit = BernoulliBandit(probs)\n",
    "learning_rate = 0.1\n",
    "n_steps = 1000\n",
    "rewards, actions, Wpolicies, dWpolicies = get_training_data(bandit, n_steps, learning_rate = learning_rate)"
   ]
  },
  {
   "cell_type": "code",
   "execution_count": 5,
   "metadata": {},
   "outputs": [
    {
     "data": {
      "image/png": "[encoded data removed]",
      "text/plain": [
       "<Figure size 640x480 with 1 Axes>"
      ]
     },
     "metadata": {},
     "output_type": "display_data"
    },
    {
     "name": "stdout",
     "output_type": "stream",
     "text": [
      "policy gradient score:  0.9245380495792388\n"
     ]
    }
   ],
   "source": [
    "bar_width = 0.35\n",
    "index = np.arange(bandit.n_arms)\n",
    "fig, ax = plt.subplots()\n",
    "ax.bar(index+bar_width, bandit.probs,\n",
    "                 bar_width, label=\"expected arm reward\")\n",
    "ax.bar(index, softmax(Wpolicies[-1]), bar_width,\n",
    "                label=\"learned policy\")\n",
    "ax.legend()\n",
    "plt.show()\n",
    "print(\"policy gradient score: \", np.sum(bandit.probs*softmax(Wpolicies[-1])))\n",
    "pgscore = np.sum(bandit.probs*softmax(Wpolicies[-1]))"
   ]
  },
  {
   "cell_type": "markdown",
   "metadata": {},
   "source": [
    "## Define gain modulated ELM architecture"
   ]
  },
  {
   "cell_type": "code",
   "execution_count": 6,
   "metadata": {},
   "outputs": [],
   "source": [
    "class GMELM:\n",
    "    \n",
    "    def __init__ (self, par):\n",
    "        # This are the network size N, input I, output O and max temporal span T\n",
    "        self.N, self.I, self.Ia = par['shape'][0], par[\"shape\"][1], par[\"shape\"][2]\n",
    "        self.par = par\n",
    "        # This is the network input, teach and output matrices\n",
    "        Jin1 = np.random.normal(0., par['sigma_Jin']/np.sqrt(self.I), size = (self.I, self.N))\n",
    "        Jin2 = np.random.normal(0., par['sigma_Jap']/np.sqrt(self.Ia), size = (self.Ia, self.N))\n",
    "        self.Jin = np.concatenate([Jin1, Jin2])\n",
    "        self.bin = np.random.normal(0., par['sigma_bin'], size = (self.N)) \n",
    "\n",
    "        self.H = np.zeros(self.N)\n",
    "        \n",
    "         \n",
    "        #self.Jap=  np.random.normal(size=(self.Ia, self.N))*par[\"sigma_Jap\"]/np.sqrt(self.Ia)*np.sin(self.par[\"gamma\"]*np.pi/4)\n",
    "        self.Jap =  Jin2*np.sin(self.par[\"gamma\"]*np.pi/4)\n",
    "        \n",
    "        self.bap = np.random.normal(size=(self.N))*par[\"sigma_bap\"]*np.cos(self.par[\"gamma\"]*np.pi/4); \n",
    "        # Softplus\n",
    "        # self.phi = lambda x: np.log(1 + np.exp(x))\n",
    "        # self.phi = lambda x: x\n",
    "        self.phi = par[\"phi\"]\n",
    "        self.Jout = None\n",
    "        \n",
    "    def get_features(self, inp, gain): \n",
    "        g = (self.bap + (gain)@self.Jap)\n",
    "        inp = np.concatenate([inp, gain], 1)\n",
    "        self.H = self.phi(g*(inp@self.Jin + self.bin))\n",
    "       \n",
    "        return self.H\n",
    "\n",
    "\n",
    "\n",
    "\n",
    "    def __call__(self, inp, gain): \n",
    "        self.get_features(inp, gain)\n",
    "        return self.H@self.Jout\n",
    "        #return self.clf.predict(self.H[None,:])[0]\n",
    "    \n",
    "    def train(self, X_in, X_ap, Y, alpha=0):\n",
    "        \n",
    "        H = self.get_features(X_in, X_ap)\n",
    "        n_col = H.shape[1]\n",
    "        self.Jout = np.linalg.lstsq(H.T.dot(H) + alpha * np.identity(n_col), H.T.dot(Y), rcond=None)[0]\n",
    "        #self.Jout = np.linalg.pinv(H)@Y"
   ]
  },
  {
   "cell_type": "markdown",
   "metadata": {},
   "source": [
    "## Train and test functions"
   ]
  },
  {
   "cell_type": "code",
   "execution_count": 7,
   "metadata": {},
   "outputs": [],
   "source": [
    "def train_pg_bandit(par, rewards, actions, Wpolicies, dWpolicies):\n",
    "    net = GMELM(par)\n",
    "    inp = np.concatenate([actions, softmax(Wpolicies, axis=1)], 1)\n",
    "    gain = rewards - 0.5\n",
    "    net.train(inp, gain, dWpolicies)\n",
    "    return net"
   ]
  },
  {
   "cell_type": "code",
   "execution_count": 8,
   "metadata": {},
   "outputs": [],
   "source": [
    "def test_model(net, bandit, n_steps, learning_rate=0.1):\n",
    "    \n",
    "    n_arms = bandit.n_arms\n",
    "    Wpolicy = np.ones(bandit.n_arms)[None,:]/n_arms\n",
    "    reward_history_model = []\n",
    "    Wpolicy_history = []\n",
    "    policy = softmax(Wpolicy)\n",
    "    for i in range(n_steps):\n",
    "        # choose action sampling from policy\n",
    "        policy = softmax(Wpolicy)\n",
    "        action = np.random.choice(n_arms, p=policy[0])\n",
    "        # get reward from bandit \n",
    "        reward = np.array(bandit.pull_arm(action))[None,None]\n",
    "        # update policy\n",
    "        delta_a = np.arange(n_arms)[None, :] == action\n",
    "        inp = np.concatenate([delta_a, policy], 1)\n",
    "        gain = reward - 0.5\n",
    "        dWpolicy = net(inp, gain)\n",
    "        Wpolicy +=  -learning_rate*dWpolicy\n",
    "        # normalize s.t. sum(policy) == 1\n",
    "        # save to create dataset \n",
    "        reward_history_model.append(reward)\n",
    "    final_score = np.sum(bandit.probs*policy)\n",
    "    return final_score, reward_history_model"
   ]
  },
  {
   "cell_type": "code",
   "execution_count": 9,
   "metadata": {},
   "outputs": [],
   "source": [
    "def train_eval(par, trainpar, probs, probs2):\n",
    "    bandit = BernoulliBandit(probs)\n",
    "    bandit2 = BernoulliBandit(probs2)\n",
    "    scores_in = []\n",
    "    scores_out = []\n",
    "    for n in range(trainpar['n_trials']):\n",
    "        rewards, actions, Wpolicies, dWpolicies = get_training_data(bandit, trainpar['n_steps'], \n",
    "                                                                        trainpar['learning_rate'], \n",
    "                                                                        n_streams = trainpar['n_streams'])\n",
    "        net =  train_pg_bandit(par, rewards, actions, Wpolicies, dWpolicies)\n",
    "        \n",
    "        scores_in.append(deepcopy(test_model(net, bandit, n_steps=trainpar['n_steps_test'], learning_rate=trainpar['learning_rate_test'])[0]))\n",
    "        scores_out.append(deepcopy(test_model(net, bandit2, n_steps=trainpar['n_steps_test'], learning_rate=trainpar['learning_rate_test'])[0]))\n",
    "    dout = {}\n",
    "    dout.update(par)\n",
    "    dout.update(trainpar)\n",
    "    dout[\"in\"] = np.array(scores_in)\n",
    "    dout[\"out\"] = np.array(scores_out)\n",
    "    return dout"
   ]
  },
  {
   "cell_type": "code",
   "execution_count": 10,
   "metadata": {},
   "outputs": [],
   "source": [
    "def train_eval_regret(par, trainpar, probs, probs2):\n",
    "    bandit = BernoulliBandit(probs)\n",
    "    bandit2 = BernoulliBandit(probs2)\n",
    "    scores_in = []\n",
    "    scores_out = []\n",
    "    rewards, actions, Wpolicies, dWpolicies = get_training_data(bandit, trainpar['n_steps'], \n",
    "                                                                        trainpar['learning_rate'], \n",
    "                                                                        n_streams = trainpar['n_streams'])\n",
    "    net =  train_pg_bandit(par, rewards, actions, Wpolicies, dWpolicies)\n",
    "    for n in range(trainpar['n_trials']):        \n",
    "        scores_in.append(deepcopy(test_model(net, bandit, n_steps=trainpar['n_steps_test'], learning_rate=trainpar['learning_rate_test'])[1]))\n",
    "        scores_out.append(deepcopy(test_model(net, bandit2, n_steps=trainpar['n_steps_test'], learning_rate=trainpar['learning_rate_test'])[1]))\n",
    "    return np.array(scores_in)[:,:,0,0], np.array(scores_out)[:,:,0,0]"
   ]
  },
  {
   "cell_type": "code",
   "execution_count": 356,
   "metadata": {},
   "outputs": [
    {
     "name": "stderr",
     "output_type": "stream",
     "text": [
      "100%|██████████| 10/10 [22:56<00:00, 137.68s/it]\n"
     ]
    }
   ],
   "source": [
    "### Define the train parameters\n",
    "\n",
    "trainpar = {\n",
    "\"n_arms\": 10,\n",
    "\"n_trials\": 20,\n",
    "\"learning_rate\": 0.1,\n",
    "\"n_steps\": 1000,\n",
    "\"n_steps_test\": 100,\n",
    "\"learning_rate_test\": 1,\n",
    "\"n_streams\": 1,\n",
    "}\n",
    "\n",
    "p = 0.95\n",
    "probs = (np.arange(trainpar['n_arms']) % 2 == 0)*p + (np.arange(trainpar['n_arms']) % 2 == 1)*(1-p)\n",
    "probs2 = (np.arange(trainpar['n_arms']) % 2 == 1)*p + (np.arange(trainpar['n_arms']) % 2 == 0)*(1-p)\n",
    "\n",
    "N_range = list(range(10, 110, 10))\n",
    "results = []\n",
    "N = 100 \n",
    "for sigma in tqdm(np.round(10**(np.linspace(-2, 0, 10)), 2)): \n",
    "    for phi in [np.tanh, lambda x: np.log(1 + np.exp(x))]:\n",
    "        for bias in np.arange(0,1.1,0.1):\n",
    "            for gamma in [0,1]:\n",
    "\n",
    "                par = {\n",
    "                'sigma_Jin': sigma,\n",
    "                \"sigma_bin\": bias,\n",
    "                \"sigma_bap\": sigma,\n",
    "                \"sigma_Jap\": sigma,\n",
    "                'gamma': gamma, \n",
    "                \"sigma\": sigma,\n",
    "                'phi': phi,   \n",
    "                \"shape\": (N, n_arms*2, 1),\n",
    "                \"N\": N,\n",
    "                }\n",
    "\n",
    "\n",
    "                results.append(train_eval(par, trainpar, probs, probs2))"
   ]
  },
  {
   "cell_type": "code",
   "execution_count": 357,
   "metadata": {},
   "outputs": [
    {
     "name": "stdout",
     "output_type": "stream",
     "text": [
      "{'phi': <function <lambda> at 0x7fe0013f97a0>, 'sigma': 0.6, 'sigma_bin': 1.0}\n",
      "{'phi': <function <lambda> at 0x7fe0014168c0>, 'sigma': 0.01, 'sigma_bin': 0.9}\n"
     ]
    }
   ],
   "source": [
    "df_hyper = pd.DataFrame(results)\n",
    "df_hyper[\"score_out\"] = df_hyper[\"out\"].apply(lambda x: - np.percentile(x, 20))\n",
    "df_best = df_hyper.sort_values(\"score_out\").drop_duplicates(subset=\"gamma\")\n",
    "hyperparams = {i: df_best.loc[df_best['gamma'] == i][['phi', 'sigma', 'sigma_bin']].iloc[0].to_dict() for i in [0,1]}\n",
    "print(hyperparams[0])\n",
    "print(hyperparams[1])"
   ]
  },
  {
   "cell_type": "code",
   "execution_count": 377,
   "metadata": {},
   "outputs": [
    {
     "name": "stderr",
     "output_type": "stream",
     "text": [
      "100%|██████████| 15/15 [07:06<00:00, 28.44s/it]\n"
     ]
    }
   ],
   "source": [
    "trainpar['n_trials'] = 100\n",
    "N_range = list(range(10, 110, 10))\n",
    "results = []\n",
    "for N in tqdm(N_range):\n",
    "    for gamma in [0,1]:\n",
    "                par = {\n",
    "                'sigma_Jin': hyperparams[gamma][\"sigma\"],\n",
    "                \"sigma_bin\": hyperparams[gamma][\"sigma_bin\"],\n",
    "                \"sigma_bap\": hyperparams[gamma][\"sigma\"],\n",
    "                \"sigma_Jap\": hyperparams[gamma][\"sigma\"],\n",
    "                'phi': hyperparams[gamma][\"phi\"], \n",
    "                \"gamma\": gamma,\n",
    "                \"shape\": (N, n_arms*2, 1),\n",
    "                \"N\": N,\n",
    "                }\n",
    "\n",
    "\n",
    "                results.append(train_eval(par, trainpar, probs, probs2))\n",
    "                \n",
    "# save the results\n"
   ]
  },
  {
   "cell_type": "markdown",
   "metadata": {},
   "source": [
    "## Plot results"
   ]
  },
  {
   "cell_type": "code",
   "execution_count": null,
   "metadata": {},
   "outputs": [],
   "source": [
    "df_best = pd.DataFrame(results)"
   ]
  },
  {
   "cell_type": "code",
   "execution_count": 379,
   "metadata": {},
   "outputs": [],
   "source": [
    "def get_best_params(df):\n",
    "    bestidx = np.argmax(df['out'].apply(lambda x: np.mean(x)))\n",
    "    bestrow = df.iloc[bestidx]\n",
    "    return bestrow \n",
    "\n",
    "def get_perc_scores_(df):   \n",
    "    bestrow = df.iloc[0] \n",
    "    return pd.Series({\n",
    "        'in_low': np.percentile(bestrow['in'], 20.),\n",
    "        'in_med': np.percentile(bestrow['in'], 50.),\n",
    "        'in_high': np.percentile(bestrow['in'], 80.),\n",
    "        'out_low': np.percentile(bestrow['out'], 20.),\n",
    "        'out_med': np.percentile(bestrow['out'], 50.),\n",
    "        'out_high': np.percentile(bestrow['out'], 80.),\n",
    "    })"
   ]
  },
  {
   "cell_type": "markdown",
   "metadata": {},
   "source": [
    "### Panel C"
   ]
  },
  {
   "cell_type": "code",
   "execution_count": 405,
   "metadata": {},
   "outputs": [
    {
     "data": {
      "image/png": "[encoded data removed]",
      "text/plain": [
       "<Figure size 113.386x85.0394 with 1 Axes>"
      ]
     },
     "metadata": {
      "needs_background": "light"
     },
     "output_type": "display_data"
    }
   ],
   "source": [
    "c0 = 'mediumorchid'\n",
    "c1 = 'teal'\n",
    "mm = 1/25.4  # mm in inches\n",
    "fig, ax = plt.subplots(figsize=(40*mm, 30*mm))\n",
    "ax.set_ylim((0.0,1))\n",
    "ax.spines['top'].set_visible(False)\n",
    "ax.spines['right'].set_visible(False)\n",
    "ax.set_xlabel(\"N hidden dims \", fontdict={'size': 7})\n",
    "ax.set_ylabel(\"expected return\", fontdict={'size': 7})\n",
    "\n",
    "N_range = range(10, 110, 10)\n",
    "df_perc = df_best.groupby([\"N\", 'gamma']).apply(get_perc_scores_, include_groups=False)\n",
    "df0 = df_perc.loc[[(i, 0.0) for i in N_range]]\n",
    "df1 = df_perc.loc[[(i, 1) for i in N_range]]\n",
    "plt.fill_between(N_range, df1[\"out_low\"], df1[\"out_high\"], alpha=0.2, color=c1)\n",
    "plt.fill_between(N_range, df0[\"out_low\"], df0[\"out_high\"], alpha=0.2, color=c0)\n",
    "\n",
    "\n",
    "plt.text(x=0.9, y=1.0, s= \"max score\", fontdict={'size': 7})\n",
    "ax.hlines([0.95], [10], [100], color='black', linestyle=\"dashed\", zorder=-10)\n",
    "plt.plot(N_range, df1[\"out_med\"], color=c1, label=\"$\\\\gamma = 1$\")\n",
    "plt.plot(N_range, df0[\"out_med\"], color=c0, label=\"$\\\\gamma = 0$\")\n",
    "ax.tick_params(axis='both', labelsize=7)\n",
    "ax.legend(loc=4, prop={'size': 7})\n",
    "ax.set_yticks([0.95])\n",
    "ax.set_xticks([10, 100])\n",
    "plt.savefig(\"bandits_1.pdf\", bbox_inches='tight')\n"
   ]
  },
  {
   "cell_type": "markdown",
   "metadata": {},
   "source": [
    "### Panel D"
   ]
  },
  {
   "cell_type": "code",
   "execution_count": 743,
   "metadata": {},
   "outputs": [
    {
     "name": "stderr",
     "output_type": "stream",
     "text": [
      "100%|██████████| 50/50 [00:02<00:00, 18.01it/s]\n"
     ]
    }
   ],
   "source": [
    "scores_out0 = []\n",
    "scores_out1 = []\n",
    "dic_test = deepcopy(trainpar)\n",
    "dic_test['n_trials'] = 100\n",
    "dic_test['n_steps_test'] = 1000\n",
    "dic_test['learning_rate_test'] = 1\n",
    "dic_test['n_steps'] = 1000\n",
    "dic_test['n_streams'] = 1\n",
    "dic_test['learning_rate_train'] = 0.1\n",
    "for i in range(5):\n",
    "    dic = df_best.loc[(df_best[\"N\"] == 100)&(df_best[\"gamma\"] == 0)].iloc[0].to_dict()\n",
    "    scores_out0.append(train_eval_regret(dic, dic_test, probs, probs2)[1])\n",
    "    \n",
    "    dic = df_best.loc[(df_best[\"N\"] == 100)&(df_best[\"gamma\"] == 1)].iloc[0].to_dict()\n",
    "    scores_out1.append(train_eval_regret(dic, dic_test, probs, probs2)[1])\n",
    "\n",
    "scores_pg = [get_training_data(bandit, dic_test['n_steps_test'], dic_test['learning_rate_test'], 1, cv=0.5)[0] for i in tqdm(range(dic_test['n_trials']))]\n",
    "scores_pg = np.array(scores_pg)[:,:,0]"
   ]
  },
  {
   "cell_type": "code",
   "execution_count": 744,
   "metadata": {},
   "outputs": [
    {
     "data": {
      "image/png": "[encoded data removed]",
      "text/plain": [
       "<Figure size 113.386x85.0394 with 1 Axes>"
      ]
     },
     "metadata": {
      "needs_background": "light"
     },
     "output_type": "display_data"
    }
   ],
   "source": [
    "fig, ax = plt.subplots(figsize=(40*mm, 30*mm)) \n",
    "ax.spines['top'].set_visible(False)\n",
    "ax.spines['right'].set_visible(False)\n",
    "bandit = BernoulliBandit(probs)\n",
    "#avg_reg_in = ((np.arange(dic['n_steps_test'])+1)*0.95 - np.cumsum(scores_in, axis=1))\n",
    "avg_reg_pg = ((np.arange(dic_test['n_steps_test'])+1)*0.95 - np.cumsum(scores_pg, axis=1))\n",
    "plt.title(\"OOD regret curves\", fontsize=7)\n",
    "\n",
    "for r0, r1 in list(zip(scores_out0, scores_out1)):\n",
    "    avg_reg_pg = ((np.arange(dic_test['n_steps_test'])+1)*0.95 - np.cumsum(scores_pg, axis=1))\n",
    "    avg_reg_out1 = ((np.arange(dic_test['n_steps_test'])+1)*0.95 - np.cumsum(r1, axis=1))\n",
    "    avg_reg_out0 = ((np.arange(dic_test['n_steps_test'])+1)*0.95 - np.cumsum(r0, axis=1))\n",
    "    plt.plot(np.log10(np.mean(avg_reg_out1/(np.arange(dic_test['n_steps_test'])+1), axis=0)), color=c1, alpha=0.5)\n",
    "    plt.plot(np.log10(np.mean(avg_reg_pg/(np.arange(dic_test['n_steps_test'])+1), axis=0)), color=\"black\")\n",
    "    plt.plot(np.log10(np.mean(avg_reg_out0/(np.arange(dic_test['n_steps_test'])+1), axis=0)), color=c0, alpha=0.5)\n",
    "ax.set_yticks([0, -1, -2])\n",
    "ax.set_xticks([0, 500, 1000])\n",
    "plt.xlabel('rounds', fontsize=7)\n",
    "ax.tick_params(axis='both', labelsize=7)\n",
    "plt.ylabel('$log_{10}$(avg. regret per round)', fontsize=7)\n",
    "plt.savefig(\"bandits_2_.pdf\", bbox_inches='tight')"
   ]
  },
  {
   "cell_type": "markdown",
   "metadata": {},
   "source": [
    "### Panel B"
   ]
  },
  {
   "cell_type": "markdown",
   "metadata": {},
   "source": []
  },
  {
   "cell_type": "code",
   "execution_count": 760,
   "metadata": {},
   "outputs": [
    {
     "name": "stderr",
     "output_type": "stream",
     "text": [
      "100%|██████████| 100/100 [00:32<00:00,  3.08it/s]\n"
     ]
    }
   ],
   "source": [
    "reg_out0 = []\n",
    "reg_out1 = []\n",
    "reg_in0 = []\n",
    "reg_in1 = []\n",
    "reg_pg = []\n",
    "\n",
    "scores_out0 = []\n",
    "scores_out1 = []\n",
    "dic_test = deepcopy(trainpar)\n",
    "dic_test['n_trials'] = 1\n",
    "dic_test['n_steps_test'] = 500\n",
    "dic_test['learning_rate_test'] = 1\n",
    "dic_test['n_steps'] = 1000\n",
    "dic_test['learning_rate_train'] = 0.1\n",
    "for i in tqdm(range(100)):\n",
    "    dic = df_best.loc[(df_best[\"N\"] == 100)&(df_best[\"gamma\"] == 0)].iloc[0].to_dict()\n",
    "    rin0, rout0 = train_eval_regret(dic, dic_test, probs, probs2)\n",
    "    \n",
    "    dic = df_best.loc[(df_best[\"N\"] == 100)&(df_best[\"gamma\"] == 1)].iloc[0].to_dict()\n",
    "    rin1, rout1 = train_eval_regret(dic, dic_test, probs, probs2)\n",
    "\n",
    "    scores_pg = [get_training_data(bandit, dic_test['n_steps_test'], dic_test['learning_rate_test'], 1, cv=0.5)[0] for i in range(dic_test['n_trials'])]\n",
    "    scores_pg = np.array(scores_pg)[:,:,0]\n",
    "              \n",
    "    reg_pg.append(((np.arange(dic_test['n_steps_test'])+1)*0.95 - np.cumsum(scores_pg, axis=1))[0, -1])\n",
    "    reg_out1.append(((np.arange(dic_test['n_steps_test'])+1)*0.95 - np.cumsum(rout1, axis=1))[0, -1])\n",
    "    reg_out0.append(((np.arange(dic_test['n_steps_test'])+1)*0.95 - np.cumsum(rout0, axis=1))[0, -1])\n",
    "    reg_in1.append(((np.arange(dic_test['n_steps_test'])+1)*0.95 - np.cumsum(rin1, axis=1))[0, -1])\n",
    "    reg_in0.append(((np.arange(dic_test['n_steps_test'])+1)*0.95 - np.cumsum(rin0, axis=1))[0, -1])\n",
    "\n",
    "reg_pg = np.array(reg_pg)/dic_test['n_steps_test']\n",
    "reg_in0 = np.array(np.abs(reg_in0))/dic_test['n_steps_test']\n",
    "reg_out0 = np.array(np.abs(reg_out0))/dic_test['n_steps_test']\n",
    "reg_in1 = np.array(np.abs(reg_in1))/dic_test['n_steps_test']\n",
    "reg_out1 = np.array(np.abs(reg_out1))/dic_test['n_steps_test']\n",
    "# negative values are given smallest possible positive value 1/dic_test['n_steps_test']\n",
    "reg_pg[reg_pg<=0] = 1/dic_test['n_steps_test']\n",
    "reg_in0[reg_in0<=0] = 1/dic_test['n_steps_test']\n",
    "reg_in1[reg_in1<=0] = 1/dic_test['n_steps_test']\n",
    "reg_out0[reg_out0<=0] = 1/dic_test['n_steps_test']\n",
    "reg_out1[reg_out1<=0] = 1/dic_test['n_steps_test']\n",
    "\n",
    "reg_pg = np.log10(reg_pg)\n",
    "reg_in0 = np.log10(reg_in0)\n",
    "reg_in1 = np.log10(reg_in1)\n",
    "reg_out0 = np.log10(reg_out0)\n",
    "reg_out1 = np.log10(reg_out1)"
   ]
  },
  {
   "cell_type": "code",
   "execution_count": 767,
   "metadata": {},
   "outputs": [
    {
     "data": {
      "image/png": "[encoded data removed]",
      "text/plain": [
       "<Figure size 42.5197x56.6929 with 1 Axes>"
      ]
     },
     "metadata": {
      "needs_background": "light"
     },
     "output_type": "display_data"
    }
   ],
   "source": [
    "fig, ax = plt.subplots(figsize=(15*mm, 20*mm)) \n",
    "ax.spines['top'].set_visible(False)\n",
    "ax.spines['right'].set_visible(False)\n",
    "\n",
    "bplot = ax.boxplot([reg_out0], positions=[1.1],\n",
    "                   widths=0.9, patch_artist=True,\n",
    "                    showmeans=False, showfliers=False,\n",
    "                    medianprops={\"color\": \"white\", \"linewidth\": 1},\n",
    "                    boxprops={\"facecolor\": c0, \"edgecolor\": \"white\",\n",
    "                          \"linewidth\": 0.5},\n",
    "                    whiskerprops={\"color\": c0, \"linewidth\": 1.5},\n",
    "                    capprops={\"color\": c0, \"linewidth\": 1.5})\n",
    "\n",
    "bplot = ax.boxplot([reg_pg], positions=[2.1],\n",
    "                   widths=0.9, patch_artist=True,\n",
    "                    showmeans=False, showfliers=False,\n",
    "                    medianprops={\"color\": \"white\", \"linewidth\": 1},\n",
    "                    boxprops={\"facecolor\": \"black\", \"edgecolor\": \"white\",\n",
    "                          \"linewidth\": 0.5},\n",
    "                    whiskerprops={\"color\": \"black\" , \"linewidth\": 1.5},\n",
    "                    capprops={\"color\": \"black\" , \"linewidth\": 1.5})\n",
    "\n",
    "bplot = ax.boxplot([reg_out1], positions=[3.1],\n",
    "                   widths=0.9, patch_artist=True,\n",
    "                    showmeans=False, showfliers=False,\n",
    "                    medianprops={\"color\": \"white\", \"linewidth\": 1},\n",
    "                    boxprops={\"facecolor\": c1, \"edgecolor\": \"white\",\n",
    "                          \"linewidth\": 0.5},\n",
    "                    whiskerprops={\"color\": c1, \"linewidth\": 1.5},\n",
    "                    capprops={\"color\": c1, \"linewidth\": 1.5})\n",
    "\n",
    "\n",
    "ax.set_ylim((-1.8 , -0.3))\n",
    "\n",
    "ax.set_yticks([0, -1])\n",
    "ax.set_xticks([0.9, 2.0, 3.1])\n",
    "ax.set_xticklabels([\"$\\gamma\\!\\!=\\!\\!0$\", \"PG\", \"$\\gamma\\!\\!=\\!\\!1$\"])\n",
    "plt.title('OOD\\n $\\log_{10}$ regret', fontsize=7)\n",
    "ax.tick_params(axis='x', labelsize=7, length=0)\n",
    "ax.tick_params(axis='y', labelsize=7, length=2)\n",
    "\n",
    "\n",
    "plt.savefig(\"bandits_3.pdf\", bbox_inches='tight')\n",
    "plt.show()"
   ]
  },
  {
   "cell_type": "code",
   "execution_count": 770,
   "metadata": {},
   "outputs": [
    {
     "data": {
      "image/png": "[encoded data removed]",
      "text/plain": [
       "<Figure size 42.5197x56.6929 with 1 Axes>"
      ]
     },
     "metadata": {
      "needs_background": "light"
     },
     "output_type": "display_data"
    }
   ],
   "source": [
    "fig, ax = plt.subplots(figsize=(15*mm, 20*mm)) \n",
    "ax.spines['top'].set_visible(False)\n",
    "ax.spines['right'].set_visible(False)\n",
    "\n",
    "bplot = ax.boxplot([reg_in0], positions=[1.1],\n",
    "                   widths=0.9, patch_artist=True,\n",
    "                    showmeans=False, showfliers=False,\n",
    "                    medianprops={\"color\": \"white\", \"linewidth\": 1},\n",
    "                    boxprops={\"facecolor\": c0, \"edgecolor\": \"white\",\n",
    "                          \"linewidth\": 0.5},\n",
    "                    whiskerprops={\"color\": c0, \"linewidth\": 1.5},\n",
    "                    capprops={\"color\": c0, \"linewidth\": 1.5})\n",
    "\n",
    "bplot = ax.boxplot([reg_pg], positions=[2.1],\n",
    "                   widths=0.9, patch_artist=True,\n",
    "                    showmeans=False, showfliers=False,\n",
    "                    medianprops={\"color\": \"white\", \"linewidth\": 1},\n",
    "                    boxprops={\"facecolor\": \"black\", \"edgecolor\": \"white\",\n",
    "                          \"linewidth\": 0.5},\n",
    "                    whiskerprops={\"color\": \"black\" , \"linewidth\": 1.5},\n",
    "                    capprops={\"color\": \"black\" , \"linewidth\": 1.5})\n",
    "\n",
    "bplot = ax.boxplot([reg_in1], positions=[3.1],\n",
    "                   widths=0.9, patch_artist=True,\n",
    "                    showmeans=False, showfliers=False,\n",
    "                    medianprops={\"color\": \"white\", \"linewidth\": 1},\n",
    "                    boxprops={\"facecolor\": c1, \"edgecolor\": \"white\",\n",
    "                          \"linewidth\": 0.5},\n",
    "                    whiskerprops={\"color\": c1, \"linewidth\": 1.5},\n",
    "                    capprops={\"color\": c1, \"linewidth\": 1.5})\n",
    "\n",
    "\n",
    "\n",
    "ax.set_ylim((-1.7, -0.5))\n",
    "\n",
    "ax.set_yticks([0, -1])\n",
    "ax.set_xticks([0.9, 2.0, 3.1])\n",
    "ax.set_xticklabels([\"$\\gamma\\!\\!=\\!\\!0$\", \"PG\", \"$\\gamma\\!\\!=\\!\\!1$\"])\n",
    "plt.title('ID\\n $\\log_{10}$ regret', fontsize=7)\n",
    "ax.tick_params(axis='x', labelsize=7, length=0)\n",
    "ax.tick_params(axis='y', labelsize=7, length=2)\n",
    "\n",
    "plt.savefig(\"bandits_4.pdf\", bbox_inches='tight')\n",
    "plt.show()"
   ]
  }
 ],
 "metadata": {
  "kernelspec": {
   "display_name": "Python 3",
   "language": "python",
   "name": "python3"
  },
  "language_info": {
   "codemirror_mode": {
    "name": "ipython",
    "version": 3
   },
   "file_extension": ".py",
   "mimetype": "text/x-python",
   "name": "python",
   "nbconvert_exporter": "python",
   "pygments_lexer": "ipython3",
   "version": "3.12.1"
  }
 },
 "nbformat": 4,
 "nbformat_minor": 2
}
