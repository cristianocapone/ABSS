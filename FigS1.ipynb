{
 "cells": [
  {
   "cell_type": "code",
   "execution_count": 1,
   "metadata": {},
   "outputs": [],
   "source": [
    "import numpy as np\n",
    "from scipy.special import softmax\n",
    "from matplotlib import pyplot as plt\n",
    "from tqdm import tqdm\n",
    "from copy import deepcopy\n",
    "import pandas as pd"
   ]
  },
  {
   "cell_type": "code",
   "execution_count": null,
   "metadata": {},
   "outputs": [],
   "source": []
  },
  {
   "cell_type": "markdown",
   "metadata": {},
   "source": [
    "## Define gain modulated ELM architecture"
   ]
  },
  {
   "cell_type": "code",
   "execution_count": 8,
   "metadata": {},
   "outputs": [],
   "source": [
    "class GMELM:\n",
    "    \n",
    "    def __init__ (self, par):\n",
    "        # This are the network size N, input I, output O and max temporal span T\n",
    "        self.N, self.I, self.Ia = par['shape'][0], par[\"shape\"][1], par[\"shape\"][2]\n",
    "        self.par = par\n",
    "        # This is the network input, teach and output matrices\n",
    "        Jin1 = np.random.normal(0., par['sigma_Jin']/np.sqrt(self.I), size = (self.I, self.N))\n",
    "        Jin2 = np.random.normal(0., par['sigma_Jap']/np.sqrt(self.Ia), size = (self.Ia, self.N))\n",
    "        self.Jin = np.concatenate([Jin1, Jin2])\n",
    "        self.bin = np.random.normal(0., par['sigma_bin'], size = (self.N)) \n",
    "\n",
    "        self.H = np.zeros(self.N)\n",
    "        \n",
    "        \n",
    "        self.Jap =  Jin2*np.sin(self.par[\"gamma\"]*np.pi/4)\n",
    "        \n",
    "        self.bap = np.random.normal(size=(self.N))*par[\"sigma_bap\"]*np.cos(self.par[\"gamma\"]*np.pi/4); \n",
    "        self.phi = par[\"phi\"]\n",
    "        self.Jout = None\n",
    "        \n",
    "    def get_features(self, inp, gain): \n",
    "        g = (self.bap + (gain)@self.Jap)\n",
    "        inp = np.concatenate([inp, gain], 1)\n",
    "        self.H = self.phi(g*(inp@self.Jin + self.bin))\n",
    "       \n",
    "        return self.H\n",
    "\n",
    "\n",
    "\n",
    "\n",
    "    def __call__(self, inp, gain): \n",
    "        self.get_features(inp, gain)\n",
    "        return self.H@self.Jout\n",
    "        #return self.clf.predict(self.H[None,:])[0]\n",
    "    \n",
    "    def train(self, X_in, X_ap, Y, alpha=0):\n",
    "        \n",
    "        H = self.get_features(X_in, X_ap)\n",
    "        n_col = H.shape[1]\n",
    "        self.Jout = np.linalg.lstsq(H.T.dot(H) + alpha * np.identity(n_col), H.T.dot(Y), rcond=None)[0]\n",
    "        #self.Jout = np.linalg.pinv(H)@Y"
   ]
  },
  {
   "cell_type": "code",
   "execution_count": 9,
   "metadata": {},
   "outputs": [],
   "source": [
    "def test_product(par_gm, n_train, n_test, n_trials):\n",
    "    err_train = []\n",
    "    err_test = []\n",
    "    for n in range(n_trials):\n",
    "        xs = np.random.uniform(size=(n_train, par_gm[\"dim\"]))\n",
    "        ws = np.random.uniform(size=(n_train, par_gm[\"dim\"]))\n",
    "        ys = np.mean(ws*xs, 1)\n",
    "        net = GMELM(par=par_gm)\n",
    "        net.train(xs, ws, ys)\n",
    "        \n",
    "        # test\n",
    "        \n",
    "        xs_test = np.random.uniform(size=(n_test, dim))*2 - 1\n",
    "        ws_test = np.random.uniform(size=(n_test, dim))*2 - 1\n",
    "        ys_test = np.mean(ws_test*xs_test, 1)\n",
    "        err_train.append(np.sqrt(np.mean((net(xs, ws) - ys)**2)))\n",
    "        err_test.append(np.sqrt(np.mean((net(xs_test, ws_test) - ys_test)**2)))\n",
    "    dic = deepcopy(par_gm)\n",
    "    dic['err_train'] = np.array(err_train)\n",
    "    dic['err_test'] = np.array(err_test)\n",
    "    return dic"
   ]
  },
  {
   "cell_type": "markdown",
   "metadata": {},
   "source": [
    "# DOT PRODUCT"
   ]
  },
  {
   "cell_type": "markdown",
   "metadata": {},
   "source": [
    "## Hyperparameter search "
   ]
  },
  {
   "cell_type": "code",
   "execution_count": 562,
   "metadata": {},
   "outputs": [
    {
     "name": "stderr",
     "output_type": "stream",
     "text": [
      "100%|██████████| 10/10 [03:23<00:00, 20.30s/it]\n",
      "100%|██████████| 10/10 [03:43<00:00, 22.35s/it]\n",
      "100%|██████████| 10/10 [03:05<00:00, 18.51s/it]\n",
      "100%|██████████| 10/10 [03:44<00:00, 22.49s/it]\n"
     ]
    }
   ],
   "source": [
    "results_hyper = []\n",
    "n_trials = 100\n",
    "n_train = 2000\n",
    "n_test = 1000\n",
    "dim = 5\n",
    "feat = 50\n",
    "\n",
    "for gamma in [0,1]:\n",
    "    for phi in [np.tanh, lambda x: np.log(1 + np.exp(x))]:\n",
    "        for sigma in tqdm(np.round(10**(np.linspace(-2, 0, 10)), 2)):\n",
    "            for bias in np.arange(0, 2.1, 0.1):\n",
    "                N, I, Ia = feat, dim, dim\n",
    "                sigma_in = sigma\n",
    "                sigma_Jin = sigma\n",
    "                sigma_bin = bias\n",
    "                sigma_bap = sigma\n",
    "                sigma_Jap = sigma\n",
    "                # Here we build the dictionary of the simulation parameters\n",
    "                par_gm = {\n",
    "                  'sigma_Jin' : sigma_Jin,\n",
    "                  \"sigma_bin\": sigma_bin,\n",
    "                  \"sigma_bap\": sigma_bap,\n",
    "                  \"sigma_Jap\": sigma_Jap,\n",
    "                  'gamma': gamma, \n",
    "                  'phi': phi,\n",
    "                  'sigma': sigma, \n",
    "                  \"bias\": bias, \n",
    "                #  \"phi\": lambda x: np.log(1 + np.exp(x)),\n",
    "                  }\n",
    "\n",
    "                par_gm[\"shape\"] = (N, I, Ia)\n",
    "                par_gm[\"dim\"] = dim\n",
    "                dic = test_product(par_gm, n_train, n_test, n_trials)\n",
    "                dic['dim'] = dim\n",
    "                dic['feat_dim'] = feat\n",
    "                results_hyper.append(dic)"
   ]
  },
  {
   "cell_type": "code",
   "execution_count": 563,
   "metadata": {},
   "outputs": [
    {
     "name": "stdout",
     "output_type": "stream",
     "text": [
      "{'phi': <function <lambda> at 0x7fb1291de050>, 'sigma': 0.6, 'bias': 0.4}\n",
      "{'phi': <ufunc 'tanh'>, 'sigma': 0.01, 'bias': 0.0}\n"
     ]
    }
   ],
   "source": [
    "df_hyper = pd.DataFrame(results_hyper)\n",
    "df_hyper[\"log_rmse_test\"] = df_hyper[\"err_test\"].apply(lambda x: np.mean(np.log10(x)))\n",
    "df_best = df_hyper.sort_values(\"log_rmse_test\").drop_duplicates(subset=\"gamma\")\n",
    "hyperparams = {i: df_best.loc[df_best['gamma'] == i][['phi', 'sigma', 'bias']].iloc[0].to_dict() for i in [0,1]}\n",
    "print(hyperparams[0])\n",
    "print(hyperparams[1])"
   ]
  },
  {
   "cell_type": "markdown",
   "metadata": {},
   "source": [
    "## Train models"
   ]
  },
  {
   "cell_type": "code",
   "execution_count": 564,
   "metadata": {},
   "outputs": [
    {
     "name": "stderr",
     "output_type": "stream",
     "text": [
      "100%|██████████| 20/20 [05:46<00:00, 17.32s/it]\n",
      "100%|██████████| 20/20 [04:39<00:00, 13.99s/it]\n"
     ]
    }
   ],
   "source": [
    "results = []\n",
    "n_trials = 100\n",
    "n_train = 2000\n",
    "n_test = 500\n",
    "maxdim = 10\n",
    "maxfeat = 200\n",
    "\n",
    "sigma = {1: 0.05, 0: 0.02}\n",
    "bias = {1: 0.00, 0: 0.0}\n",
    "for gamma in [0,1]:\n",
    "    for feat_dim in  tqdm(range(1,maxfeat+1, 10)):\n",
    "        for dim in range(1,maxdim+1):\n",
    "            N, I, Ia = feat_dim, dim, dim\n",
    "            # Here we build the dictionary of the simulation parameters\n",
    "            par_gm = {\n",
    "                'sigma_Jin' : hyperparams[gamma][\"sigma\"],\n",
    "                \"sigma_bin\": hyperparams[gamma][\"bias\"],\n",
    "                \"sigma_bap\": hyperparams[gamma][\"sigma\"],\n",
    "                \"sigma_Jap\": hyperparams[gamma][\"sigma\"],\n",
    "                'gamma': gamma, \n",
    "              #  'phi': np.tanh,\n",
    "                \"phi\": hyperparams[gamma][\"phi\"],\n",
    "                }\n",
    "\n",
    "            par_gm[\"shape\"] = (N, I, Ia)\n",
    "            par_gm[\"dim\"] = dim\n",
    "            dic = test_product(par_gm, n_train, n_test, n_trials)\n",
    "            dic['dim'] = dim\n",
    "            dic['feat_dim'] = feat_dim\n",
    "            results.append(dic)"
   ]
  },
  {
   "cell_type": "markdown",
   "metadata": {},
   "source": [
    "## Produce panels"
   ]
  },
  {
   "cell_type": "code",
   "execution_count": 565,
   "metadata": {},
   "outputs": [
    {
     "data": {
      "text/html": [
       "<div>\n",
       "<style scoped>\n",
       "    .dataframe tbody tr th:only-of-type {\n",
       "        vertical-align: middle;\n",
       "    }\n",
       "\n",
       "    .dataframe tbody tr th {\n",
       "        vertical-align: top;\n",
       "    }\n",
       "\n",
       "    .dataframe thead th {\n",
       "        text-align: right;\n",
       "    }\n",
       "</style>\n",
       "<table border=\"1\" class=\"dataframe\">\n",
       "  <thead>\n",
       "    <tr style=\"text-align: right;\">\n",
       "      <th></th>\n",
       "      <th>sigma_Jin</th>\n",
       "      <th>sigma_bin</th>\n",
       "      <th>sigma_bap</th>\n",
       "      <th>sigma_Jap</th>\n",
       "      <th>gamma</th>\n",
       "      <th>phi</th>\n",
       "      <th>shape</th>\n",
       "      <th>dim</th>\n",
       "      <th>err_train</th>\n",
       "      <th>err_test</th>\n",
       "      <th>feat_dim</th>\n",
       "    </tr>\n",
       "  </thead>\n",
       "  <tbody>\n",
       "    <tr>\n",
       "      <th>395</th>\n",
       "      <td>0.01</td>\n",
       "      <td>0.0</td>\n",
       "      <td>0.01</td>\n",
       "      <td>0.01</td>\n",
       "      <td>1</td>\n",
       "      <td>&lt;ufunc 'tanh'&gt;</td>\n",
       "      <td>(191, 6, 6)</td>\n",
       "      <td>6</td>\n",
       "      <td>[1.716079948574383e-09, 3.2454882123446995e-09...</td>\n",
       "      <td>[1.9337527627238044e-08, 5.1079085302344944e-0...</td>\n",
       "      <td>191</td>\n",
       "    </tr>\n",
       "    <tr>\n",
       "      <th>396</th>\n",
       "      <td>0.01</td>\n",
       "      <td>0.0</td>\n",
       "      <td>0.01</td>\n",
       "      <td>0.01</td>\n",
       "      <td>1</td>\n",
       "      <td>&lt;ufunc 'tanh'&gt;</td>\n",
       "      <td>(191, 7, 7)</td>\n",
       "      <td>7</td>\n",
       "      <td>[1.526476914190516e-09, 1.6927744260892229e-09...</td>\n",
       "      <td>[1.880057961532006e-08, 1.8838816628739744e-08...</td>\n",
       "      <td>191</td>\n",
       "    </tr>\n",
       "    <tr>\n",
       "      <th>397</th>\n",
       "      <td>0.01</td>\n",
       "      <td>0.0</td>\n",
       "      <td>0.01</td>\n",
       "      <td>0.01</td>\n",
       "      <td>1</td>\n",
       "      <td>&lt;ufunc 'tanh'&gt;</td>\n",
       "      <td>(191, 8, 8)</td>\n",
       "      <td>8</td>\n",
       "      <td>[1.4934961166577616e-09, 2.016674563125288e-09...</td>\n",
       "      <td>[2.252755450855617e-08, 2.5567777114118578e-08...</td>\n",
       "      <td>191</td>\n",
       "    </tr>\n",
       "    <tr>\n",
       "      <th>398</th>\n",
       "      <td>0.01</td>\n",
       "      <td>0.0</td>\n",
       "      <td>0.01</td>\n",
       "      <td>0.01</td>\n",
       "      <td>1</td>\n",
       "      <td>&lt;ufunc 'tanh'&gt;</td>\n",
       "      <td>(191, 9, 9)</td>\n",
       "      <td>9</td>\n",
       "      <td>[2.6810387329792477e-09, 1.4803429147667931e-0...</td>\n",
       "      <td>[3.799015761960406e-08, 2.1721290379091154e-08...</td>\n",
       "      <td>191</td>\n",
       "    </tr>\n",
       "    <tr>\n",
       "      <th>399</th>\n",
       "      <td>0.01</td>\n",
       "      <td>0.0</td>\n",
       "      <td>0.01</td>\n",
       "      <td>0.01</td>\n",
       "      <td>1</td>\n",
       "      <td>&lt;ufunc 'tanh'&gt;</td>\n",
       "      <td>(191, 10, 10)</td>\n",
       "      <td>10</td>\n",
       "      <td>[3.4527660119174506e-09, 4.087407099876722e-09...</td>\n",
       "      <td>[4.561671307834107e-08, 5.7626682616088205e-08...</td>\n",
       "      <td>191</td>\n",
       "    </tr>\n",
       "  </tbody>\n",
       "</table>\n",
       "</div>"
      ],
      "text/plain": [
       "     sigma_Jin  sigma_bin  sigma_bap  sigma_Jap  gamma             phi  \\\n",
       "395       0.01        0.0       0.01       0.01      1  <ufunc 'tanh'>   \n",
       "396       0.01        0.0       0.01       0.01      1  <ufunc 'tanh'>   \n",
       "397       0.01        0.0       0.01       0.01      1  <ufunc 'tanh'>   \n",
       "398       0.01        0.0       0.01       0.01      1  <ufunc 'tanh'>   \n",
       "399       0.01        0.0       0.01       0.01      1  <ufunc 'tanh'>   \n",
       "\n",
       "             shape  dim                                          err_train  \\\n",
       "395    (191, 6, 6)    6  [1.716079948574383e-09, 3.2454882123446995e-09...   \n",
       "396    (191, 7, 7)    7  [1.526476914190516e-09, 1.6927744260892229e-09...   \n",
       "397    (191, 8, 8)    8  [1.4934961166577616e-09, 2.016674563125288e-09...   \n",
       "398    (191, 9, 9)    9  [2.6810387329792477e-09, 1.4803429147667931e-0...   \n",
       "399  (191, 10, 10)   10  [3.4527660119174506e-09, 4.087407099876722e-09...   \n",
       "\n",
       "                                              err_test  feat_dim  \n",
       "395  [1.9337527627238044e-08, 5.1079085302344944e-0...       191  \n",
       "396  [1.880057961532006e-08, 1.8838816628739744e-08...       191  \n",
       "397  [2.252755450855617e-08, 2.5567777114118578e-08...       191  \n",
       "398  [3.799015761960406e-08, 2.1721290379091154e-08...       191  \n",
       "399  [4.561671307834107e-08, 5.7626682616088205e-08...       191  "
      ]
     },
     "execution_count": 565,
     "metadata": {},
     "output_type": "execute_result"
    }
   ],
   "source": [
    "df = pd.DataFrame(results)\n",
    "df.tail()"
   ]
  },
  {
   "cell_type": "code",
   "execution_count": 566,
   "metadata": {
    "scrolled": true
   },
   "outputs": [
    {
     "data": {
      "image/png": "[encoded data removed]",
      "text/plain": [
       "<Figure size 226.772x212.598 with 3 Axes>"
      ]
     },
     "metadata": {
      "needs_background": "light"
     },
     "output_type": "display_data"
    }
   ],
   "source": [
    "err = \"err_test\"\n",
    "grid = np.indices((maxdim,maxfeat//10 - 1))\n",
    "err0 = np.vectorize(lambda i, j: (np.mean(np.log10(df.loc[(df[\"dim\"]==i)&\n",
    "                                             (df[\"feat_dim\"]==j)&\n",
    "                                             (df[\"gamma\"]==0)\n",
    "                                           ].iloc[0][err]))))(grid[0]+1, 10*(grid[1])+1)\n",
    "err1 = np.vectorize(lambda i, j: (np.mean(np.log10(df.loc[(df[\"dim\"]==i)&\n",
    "                                             (df[\"feat_dim\"]==j)&\n",
    "                                             (df[\"gamma\"]==1)\n",
    "                                           ].iloc[0][err]))))(grid[0]+1, 10*(grid[1])+1)\n",
    "\n",
    "min = np.min(err1)\n",
    "\n",
    "mm = 1/25.4  # mm in inches\n",
    "\n",
    "fig, (ax1, ax2) = plt.subplots(2, 1, figsize=(80*mm, 75*mm)) \n",
    "ax1.set_title('without gain modulation', fontsize=7)\n",
    "ax2.set_title('with gain modulation', fontsize=7)\n",
    "\n",
    "im1 = ax1.imshow(err0, cmap='Greens_r', vmin=min, vmax=0)\n",
    "ax1.set_xticks([])\n",
    "ax1.set_yticks([0,maxdim-1])\n",
    "ax1.set_yticklabels([0, maxdim])\n",
    "im2 = ax2.imshow(err1, cmap='Greens_r', vmin=min, vmax=0)\n",
    "ax2.set_xticks([0,5,10,15])\n",
    "ax2.set_yticks([0,maxdim-1])\n",
    "ax2.set_yticklabels([0, maxdim])\n",
    "ax2.set_xticklabels([1,51,101,151])\n",
    "cb = plt.colorbar(im1, ax=[ax1, ax2])\n",
    "cb.ax.tick_params(labelsize=7)\n",
    "ax1.tick_params(axis='both', labelsize=7)\n",
    "ax2.tick_params(axis='both', labelsize=7)\n",
    "plt.text(16.5,-13.5, \"avg. $ \\\\log_{10}$RMSE\", fontsize=7)\n",
    "ax2.set_xlabel(\"N hidded units\", fontsize=7)\n",
    "ax1.set_ylabel(\"N input features\", fontsize=7)\n",
    "ax2.set_ylabel(\"N input features\", fontsize=7)\n",
    "plt.savefig(\"dot_prod_1.pdf\", bbox_inches='tight')"
   ]
  },
  {
   "cell_type": "code",
   "execution_count": 582,
   "metadata": {},
   "outputs": [
    {
     "data": {
      "image/png": "[encoded data removed]",
      "text/plain": [
       "<Figure size 113.386x85.0394 with 1 Axes>"
      ]
     },
     "metadata": {
      "needs_background": "light"
     },
     "output_type": "display_data"
    }
   ],
   "source": [
    "fig, ax = plt.subplots(figsize=(40*mm, 30*mm)) \n",
    "ax.spines['top'].set_visible(False)\n",
    "ax.spines['right'].set_visible(False)\n",
    "ax.set_title('N hidden dims = 101', fontsize=7)\n",
    "\n",
    "c0 = \"darkorange\"\n",
    "c1 = \"cornflowerblue\"\n",
    "\n",
    "df[(df[\"feat_dim\"] == 101)&(df[\"gamma\"] == 0)]['err_train']\n",
    "ax.tick_params(axis='both', labelsize=7)\n",
    "\n",
    "dims = df[(df[\"feat_dim\"] == 101)&(df[\"gamma\"] == 0)][\"dim\"]\n",
    "e0train = df[(df[\"feat_dim\"] == 101)&(df[\"gamma\"] == 0)]['err_train']\n",
    "e0train = np.stack(e0train.apply(lambda x: np.log10(np.percentile(x, [20, 50, 80]))))\n",
    "e0test = df[(df[\"feat_dim\"] == 101)&(df[\"gamma\"] == 0)]['err_test']\n",
    "e0test = np.stack(e0test.apply(lambda x: np.log10(np.percentile(x, [20, 50, 80]))))\n",
    "\n",
    "plt.plot(dims, e0test[:,1], color=c0, label=\"$\\\\gamma=0$\")\n",
    "\n",
    "e1train = df[(df[\"feat_dim\"] == 101)&(df[\"gamma\"] == 1)]['err_train']\n",
    "e1train = np.stack(e1train.apply(lambda x: np.log10(np.percentile(x, [20, 50, 80]))))\n",
    "e1test = df[(df[\"feat_dim\"] == 101)&(df[\"gamma\"] == 1)]['err_test']\n",
    "e1test = np.stack(e1test.apply(lambda x: np.log10(np.percentile(x, [20, 50, 80]))))\n",
    "ax.set_ylabel(\"$\\\\log_{10}$ RMSE\", fontdict={'size': 7})\n",
    "ax.set_xlabel(\"N input features\", fontdict={'size': 7})\n",
    "\n",
    "plt.plot(dims, e1test[:,1], color=c1, label=\"$\\\\gamma=1$\")\n",
    "plt.fill_between(dims, e1test[:,0], e1test[:,2], color=c1, alpha=0.5)\n",
    "plt.fill_between(dims, e0test[:,0], e0test[:,2], color=c0, alpha=0.5)\n",
    "ax.set_yticks([0.0,-7])\n",
    "ax.set_yticklabels([\"0\",\"-7\"])\n",
    "ax.set_xticks([1,10])\n",
    "plt.savefig(\"dot_prod_2.pdf\", bbox_inches='tight')"
   ]
  },
  {
   "cell_type": "code",
   "execution_count": 580,
   "metadata": {},
   "outputs": [
    {
     "data": {
      "image/png": "[encoded data removed]",
      "text/plain": [
       "<Figure size 113.386x85.0394 with 1 Axes>"
      ]
     },
     "metadata": {
      "needs_background": "light"
     },
     "output_type": "display_data"
    }
   ],
   "source": [
    "fig, ax = plt.subplots(figsize=(40*mm, 30*mm)) \n",
    "ax.spines['top'].set_visible(False)\n",
    "ax.spines['right'].set_visible(False)\n",
    "ax.set_title('N input features = 5', fontsize=7)\n",
    "\n",
    "c0 = \"darkorange\"\n",
    "c1 = \"cornflowerblue\"\n",
    "\n",
    "ax.tick_params(axis='both', labelsize=7)\n",
    "ax.set_xticks([1,50,100,150])\n",
    "\n",
    "dims = df[(df[\"dim\"] == 5)&(df[\"gamma\"] == 0)][\"feat_dim\"]\n",
    "e0train = df[(df[\"dim\"] == 5)&(df[\"gamma\"] == 0)]['err_train']\n",
    "e0train = np.stack(e0train.apply(lambda x: np.log10(np.percentile(x, [20, 50, 80]))))\n",
    "e0test = df[(df[\"dim\"] == 5)&(df[\"gamma\"] == 0)]['err_test']\n",
    "e0test = np.stack(e0test.apply(lambda x: np.log10(np.percentile(x, [20, 50, 80]))))\n",
    "\n",
    "plt.plot(dims, e0test[:,1], color=c0, label=\"$\\\\gamma=0$\")\n",
    "\n",
    "e1train = df[(df[\"dim\"] == 5)&(df[\"gamma\"] == 1)]['err_train']\n",
    "e1train = np.stack(e1train.apply(lambda x: np.log10(np.percentile(x, [20, 50, 80]))))\n",
    "e1test = df[(df[\"dim\"] == 5)&(df[\"gamma\"] == 1)]['err_test']\n",
    "e1test = np.stack(e1test.apply(lambda x: np.log10(np.percentile(x, [20, 50, 80]))))\n",
    "ax.set_ylabel(\"$\\\\log_{10}$ RMSE\", fontdict={'size': 7})\n",
    "ax.set_xlabel(\"N hidden dims\", fontdict={'size': 7})\n",
    "\n",
    "plt.plot(dims, e1test[:,1], color=c1, label=\"$\\\\gamma=1$\")\n",
    "plt.fill_between(dims, e1test[:,0], e1test[:,2], color=c1, alpha=0.5)\n",
    "plt.fill_between(dims, e0test[:,0], e0test[:,2], color=c0, alpha=0.5)\n",
    "ax.set_yticks([0.0,-7])\n",
    "ax.set_yticklabels([\"0\",\"-7\"])\n",
    "ax.legend(loc=4, prop={'size': 7}, bbox_to_anchor=(1.0, .13))\n",
    "plt.savefig(\"dot_prod_3.pdf\", bbox_inches='tight')"
   ]
  },
  {
   "cell_type": "markdown",
   "metadata": {},
   "source": [
    "# VECTORxSCALAR PRODUCT"
   ]
  },
  {
   "cell_type": "code",
   "execution_count": 478,
   "metadata": {},
   "outputs": [],
   "source": [
    "def test_vs_product(par_gm, n_train, n_test, n_trials):\n",
    "    err_train = []\n",
    "    err_test = []\n",
    "    for n in range(n_trials):\n",
    "        xs = np.random.uniform(size=(n_train, par_gm[\"dim\"]))\n",
    "        ws = np.random.uniform(size=(n_train, 1))\n",
    "        ys = ws*xs\n",
    "        net = GMELM(par=par_gm)\n",
    "        net.train(xs, ws, ys)\n",
    "        \n",
    "        # test\n",
    "        \n",
    "        xs_test = np.random.uniform(size=(n_test, dim))*2 - 1\n",
    "        ws_test = np.random.uniform(size=(n_test, 1))*2 - 1\n",
    "        ys_test = ws_test*xs_test\n",
    "        err_train.append(np.sqrt(np.mean((net(xs, ws) - ys)**2)))\n",
    "        err_test.append(np.sqrt(np.mean((net(xs_test, ws_test) - ys_test)**2)))\n",
    "    dic = deepcopy(par_gm)\n",
    "    dic['err_train'] = np.array(err_train)\n",
    "    dic['err_test'] = np.array(err_test)\n",
    "    return dic"
   ]
  },
  {
   "cell_type": "markdown",
   "metadata": {},
   "source": [
    "## Hyperparameter search"
   ]
  },
  {
   "cell_type": "code",
   "execution_count": 479,
   "metadata": {},
   "outputs": [
    {
     "name": "stderr",
     "output_type": "stream",
     "text": [
      "100%|██████████| 10/10 [00:46<00:00,  4.60s/it]\n",
      "100%|██████████| 10/10 [00:55<00:00,  5.53s/it]\n",
      "100%|██████████| 10/10 [00:47<00:00,  4.79s/it]\n",
      "100%|██████████| 10/10 [01:02<00:00,  6.24s/it]\n"
     ]
    }
   ],
   "source": [
    "results_hyper = []\n",
    "n_trials = 100\n",
    "n_train = 2000\n",
    "n_test = 1000\n",
    "dim = 5\n",
    "feat = 20\n",
    "\n",
    "for gamma in [0,1]:\n",
    "    for phi in [np.tanh, lambda x: np.log(1 + np.exp(x))]:\n",
    "        for sigma in tqdm(np.round(10**(np.linspace(-2, 0, 10)), 2)):\n",
    "            for bias in np.arange(0, 2.1, 0.1):\n",
    "                N, I, Ia = feat, dim, 1\n",
    "                sigma_in = sigma\n",
    "                sigma_Jin = sigma\n",
    "                sigma_bin = bias\n",
    "                sigma_bap = sigma\n",
    "                sigma_Jap = sigma\n",
    "                # Here we build the dictionary of the simulation parameters\n",
    "                par_gm = {\n",
    "                  'sigma_Jin' : sigma_Jin,\n",
    "                  \"sigma_bin\": sigma_bin,\n",
    "                  \"sigma_bap\": sigma_bap,\n",
    "                  \"sigma_Jap\": sigma_Jap,\n",
    "                  'gamma': gamma, \n",
    "                  'phi': phi,\n",
    "                  'sigma': sigma, \n",
    "                  \"bias\": bias, \n",
    "                #  \"phi\": lambda x: np.log(1 + np.exp(x)),\n",
    "                  }\n",
    "\n",
    "                par_gm[\"shape\"] = (N, I, Ia)\n",
    "                par_gm[\"dim\"] = dim\n",
    "                dic = test_vs_product(par_gm, n_train, n_test, n_trials)\n",
    "                dic['dim'] = dim\n",
    "                dic['feat_dim'] = feat\n",
    "                results_hyper.append(dic)"
   ]
  },
  {
   "cell_type": "code",
   "execution_count": 480,
   "metadata": {},
   "outputs": [
    {
     "name": "stdout",
     "output_type": "stream",
     "text": [
      "{'phi': <function <lambda> at 0x7fb118734560>, 'sigma': 0.36, 'bias': 0.2}\n",
      "{'phi': <ufunc 'tanh'>, 'sigma': 0.01, 'bias': 0.0}\n"
     ]
    }
   ],
   "source": [
    "df_hyper = pd.DataFrame(results_hyper)\n",
    "df_hyper[\"log_rmse_test\"] = df_hyper[\"err_test\"].apply(lambda x: np.mean(np.log10(x)))\n",
    "df_best = df_hyper.sort_values(\"log_rmse_test\").drop_duplicates(subset=\"gamma\")\n",
    "hyperparams = {i: df_best.loc[df_best['gamma'] == i][['phi', 'sigma', 'bias']].iloc[0].to_dict() for i in [0,1]}\n",
    "print(hyperparams[0])\n",
    "print(hyperparams[1])"
   ]
  },
  {
   "cell_type": "markdown",
   "metadata": {},
   "source": [
    "## Train models"
   ]
  },
  {
   "cell_type": "code",
   "execution_count": 481,
   "metadata": {},
   "outputs": [
    {
     "name": "stderr",
     "output_type": "stream",
     "text": [
      "100%|██████████| 20/20 [01:19<00:00,  3.97s/it]\n",
      "100%|██████████| 20/20 [01:01<00:00,  3.05s/it]\n"
     ]
    }
   ],
   "source": [
    "results = []\n",
    "n_trials = 100\n",
    "n_train = 2000\n",
    "n_test = 500\n",
    "maxdim = 10\n",
    "maxfeat = 40\n",
    "\n",
    "\n",
    "for gamma in [0,1]:\n",
    "    for feat_dim in  tqdm(range(1,maxfeat+1, 2)):\n",
    "        for dim in range(1,maxdim+1):\n",
    "            N, I, Ia = feat_dim, dim, 1\n",
    "            # Here we build the dictionary of the simulation parameters\n",
    "            par_gm = {\n",
    "                'sigma_Jin' : hyperparams[gamma][\"sigma\"],\n",
    "                \"sigma_bin\": hyperparams[gamma][\"bias\"],\n",
    "                \"sigma_bap\": hyperparams[gamma][\"sigma\"],\n",
    "                \"sigma_Jap\": hyperparams[gamma][\"sigma\"],\n",
    "                'gamma': gamma, \n",
    "              #  'phi': np.tanh,\n",
    "                \"phi\": hyperparams[gamma][\"phi\"],\n",
    "                }\n",
    "\n",
    "            par_gm[\"shape\"] = (N, I, Ia)\n",
    "            par_gm[\"dim\"] = dim\n",
    "            dic = test_vs_product(par_gm, n_train, n_test, n_trials)\n",
    "            dic['dim'] = dim\n",
    "            dic['feat_dim'] = feat_dim\n",
    "            results.append(dic)"
   ]
  },
  {
   "cell_type": "markdown",
   "metadata": {},
   "source": [
    "## Produce panels"
   ]
  },
  {
   "cell_type": "code",
   "execution_count": 483,
   "metadata": {},
   "outputs": [
    {
     "data": {
      "text/html": [
       "<div>\n",
       "<style scoped>\n",
       "    .dataframe tbody tr th:only-of-type {\n",
       "        vertical-align: middle;\n",
       "    }\n",
       "\n",
       "    .dataframe tbody tr th {\n",
       "        vertical-align: top;\n",
       "    }\n",
       "\n",
       "    .dataframe thead th {\n",
       "        text-align: right;\n",
       "    }\n",
       "</style>\n",
       "<table border=\"1\" class=\"dataframe\">\n",
       "  <thead>\n",
       "    <tr style=\"text-align: right;\">\n",
       "      <th></th>\n",
       "      <th>sigma_Jin</th>\n",
       "      <th>sigma_bin</th>\n",
       "      <th>sigma_bap</th>\n",
       "      <th>sigma_Jap</th>\n",
       "      <th>gamma</th>\n",
       "      <th>phi</th>\n",
       "      <th>shape</th>\n",
       "      <th>dim</th>\n",
       "      <th>err_train</th>\n",
       "      <th>err_test</th>\n",
       "      <th>feat_dim</th>\n",
       "    </tr>\n",
       "  </thead>\n",
       "  <tbody>\n",
       "    <tr>\n",
       "      <th>395</th>\n",
       "      <td>0.01</td>\n",
       "      <td>0.0</td>\n",
       "      <td>0.01</td>\n",
       "      <td>0.01</td>\n",
       "      <td>1</td>\n",
       "      <td>&lt;ufunc 'tanh'&gt;</td>\n",
       "      <td>(39, 6, 1)</td>\n",
       "      <td>6</td>\n",
       "      <td>[3.9923193832076714e-09, 8.912660128932024e-09...</td>\n",
       "      <td>[5.152148385844012e-08, 9.7521008249095e-08, 4...</td>\n",
       "      <td>39</td>\n",
       "    </tr>\n",
       "    <tr>\n",
       "      <th>396</th>\n",
       "      <td>0.01</td>\n",
       "      <td>0.0</td>\n",
       "      <td>0.01</td>\n",
       "      <td>0.01</td>\n",
       "      <td>1</td>\n",
       "      <td>&lt;ufunc 'tanh'&gt;</td>\n",
       "      <td>(39, 7, 1)</td>\n",
       "      <td>7</td>\n",
       "      <td>[3.557739718059229e-09, 7.3022303631688655e-09...</td>\n",
       "      <td>[3.923667263381854e-08, 8.247545722390362e-08,...</td>\n",
       "      <td>39</td>\n",
       "    </tr>\n",
       "    <tr>\n",
       "      <th>397</th>\n",
       "      <td>0.01</td>\n",
       "      <td>0.0</td>\n",
       "      <td>0.01</td>\n",
       "      <td>0.01</td>\n",
       "      <td>1</td>\n",
       "      <td>&lt;ufunc 'tanh'&gt;</td>\n",
       "      <td>(39, 8, 1)</td>\n",
       "      <td>8</td>\n",
       "      <td>[5.4064521096962284e-09, 3.698228010224548e-09...</td>\n",
       "      <td>[5.22928251894024e-08, 3.757677555720156e-08, ...</td>\n",
       "      <td>39</td>\n",
       "    </tr>\n",
       "    <tr>\n",
       "      <th>398</th>\n",
       "      <td>0.01</td>\n",
       "      <td>0.0</td>\n",
       "      <td>0.01</td>\n",
       "      <td>0.01</td>\n",
       "      <td>1</td>\n",
       "      <td>&lt;ufunc 'tanh'&gt;</td>\n",
       "      <td>(39, 9, 1)</td>\n",
       "      <td>9</td>\n",
       "      <td>[3.925659676353928e-09, 3.244269967199867e-09,...</td>\n",
       "      <td>[5.852650960577342e-08, 2.5141547293772687e-08...</td>\n",
       "      <td>39</td>\n",
       "    </tr>\n",
       "    <tr>\n",
       "      <th>399</th>\n",
       "      <td>0.01</td>\n",
       "      <td>0.0</td>\n",
       "      <td>0.01</td>\n",
       "      <td>0.01</td>\n",
       "      <td>1</td>\n",
       "      <td>&lt;ufunc 'tanh'&gt;</td>\n",
       "      <td>(39, 10, 1)</td>\n",
       "      <td>10</td>\n",
       "      <td>[1.244378541947408e-08, 1.7900768821242863e-08...</td>\n",
       "      <td>[1.4190480081502054e-07, 2.440560624856685e-07...</td>\n",
       "      <td>39</td>\n",
       "    </tr>\n",
       "  </tbody>\n",
       "</table>\n",
       "</div>"
      ],
      "text/plain": [
       "     sigma_Jin  sigma_bin  sigma_bap  sigma_Jap  gamma             phi  \\\n",
       "395       0.01        0.0       0.01       0.01      1  <ufunc 'tanh'>   \n",
       "396       0.01        0.0       0.01       0.01      1  <ufunc 'tanh'>   \n",
       "397       0.01        0.0       0.01       0.01      1  <ufunc 'tanh'>   \n",
       "398       0.01        0.0       0.01       0.01      1  <ufunc 'tanh'>   \n",
       "399       0.01        0.0       0.01       0.01      1  <ufunc 'tanh'>   \n",
       "\n",
       "           shape  dim                                          err_train  \\\n",
       "395   (39, 6, 1)    6  [3.9923193832076714e-09, 8.912660128932024e-09...   \n",
       "396   (39, 7, 1)    7  [3.557739718059229e-09, 7.3022303631688655e-09...   \n",
       "397   (39, 8, 1)    8  [5.4064521096962284e-09, 3.698228010224548e-09...   \n",
       "398   (39, 9, 1)    9  [3.925659676353928e-09, 3.244269967199867e-09,...   \n",
       "399  (39, 10, 1)   10  [1.244378541947408e-08, 1.7900768821242863e-08...   \n",
       "\n",
       "                                              err_test  feat_dim  \n",
       "395  [5.152148385844012e-08, 9.7521008249095e-08, 4...        39  \n",
       "396  [3.923667263381854e-08, 8.247545722390362e-08,...        39  \n",
       "397  [5.22928251894024e-08, 3.757677555720156e-08, ...        39  \n",
       "398  [5.852650960577342e-08, 2.5141547293772687e-08...        39  \n",
       "399  [1.4190480081502054e-07, 2.440560624856685e-07...        39  "
      ]
     },
     "execution_count": 483,
     "metadata": {},
     "output_type": "execute_result"
    }
   ],
   "source": [
    "df = pd.DataFrame(results)\n",
    "df.tail()"
   ]
  },
  {
   "cell_type": "code",
   "execution_count": 509,
   "metadata": {
    "scrolled": true
   },
   "outputs": [
    {
     "data": {
      "image/png": "[encoded data removed]",
      "text/plain": [
       "<Figure size 226.772x212.598 with 3 Axes>"
      ]
     },
     "metadata": {
      "needs_background": "light"
     },
     "output_type": "display_data"
    }
   ],
   "source": [
    "mm = 1/25.4  # mm in inches\n",
    "\n",
    "\n",
    "err = \"err_test\"\n",
    "grid = np.indices((maxdim,maxfeat//2 - 1))\n",
    "err0 = np.vectorize(lambda i, j: (np.mean(np.log10(df.loc[(df[\"dim\"]==i)&\n",
    "                                             (df[\"feat_dim\"]==j)&\n",
    "                                             (df[\"gamma\"]==0)\n",
    "                                           ].iloc[0][err]))))(grid[0]+1, 2*(grid[1])+1)\n",
    "err1 = np.vectorize(lambda i, j: (np.mean(np.log10(df.loc[(df[\"dim\"]==i)&\n",
    "                                             (df[\"feat_dim\"]==j)&\n",
    "                                             (df[\"gamma\"]==1)\n",
    "                                           ].iloc[0][err]))))(grid[0]+1, 2*(grid[1])+1)\n",
    "\n",
    "min = np.min(err1)\n",
    "\n",
    "fig, (ax1, ax2) = plt.subplots(2, 1, figsize=(80*mm, 75*mm)) \n",
    "ax1.set_title('without gain modulation', fontsize=7)\n",
    "ax2.set_title('with gain modulation', fontsize=7)\n",
    "\n",
    "im1 = ax1.imshow(err0, cmap='Greens_r', vmin=min, vmax=0)\n",
    "ax1.set_xticks([])\n",
    "ax1.set_yticks([0,maxdim-1])\n",
    "ax1.set_yticklabels([0, maxdim])\n",
    "im2 = ax2.imshow(err1, cmap='Greens_r', vmin=min, vmax=0)\n",
    "ax2.set_xticks([0,5,10,15])\n",
    "ax2.set_yticks([0,maxdim-1])\n",
    "ax2.set_yticklabels([0, maxdim])\n",
    "ax2.set_xticklabels([1,11, 21 , 31])\n",
    "cb = plt.colorbar(im1, ax=[ax1, ax2])\n",
    "cb.ax.tick_params(labelsize=7)\n",
    "ax1.tick_params(axis='both', labelsize=7)\n",
    "ax2.tick_params(axis='both', labelsize=7)\n",
    "plt.text(16.5,-13.5, \"avg. $ \\\\log_{10}$RMSE\", fontsize=7)\n",
    "ax2.set_xlabel(\"N hidded units\", fontsize=7)\n",
    "ax1.set_ylabel(\"N input features\", fontsize=7)\n",
    "ax2.set_ylabel(\"N input features\", fontsize=7)\n",
    "plt.savefig(\"sv_prod_1.pdf\", bbox_inches='tight')"
   ]
  },
  {
   "cell_type": "code",
   "execution_count": 546,
   "metadata": {},
   "outputs": [
    {
     "data": {
      "image/png": "[encoded data removed]",
      "text/plain": [
       "<Figure size 113.386x85.0394 with 1 Axes>"
      ]
     },
     "metadata": {
      "needs_background": "light"
     },
     "output_type": "display_data"
    }
   ],
   "source": [
    "fig, ax = plt.subplots(figsize=(40*mm, 30*mm)) \n",
    "ax.spines['top'].set_visible(False)\n",
    "ax.spines['right'].set_visible(False)\n",
    "ax.set_title('N hidden dims = 21', fontsize=7)\n",
    "\n",
    "c0 = \"darkorange\"\n",
    "c1 = \"cornflowerblue\"\n",
    "\n",
    "df[(df[\"feat_dim\"] == 21)&(df[\"gamma\"] == 0)]['err_train']\n",
    "ax.tick_params(axis='both', labelsize=7)\n",
    "ax.set_xticks([1,10])\n",
    "ax.set_yticks([0,-7])\n",
    "dims = df[(df[\"feat_dim\"] == 21)&(df[\"gamma\"] == 0)][\"dim\"]\n",
    "e0train = df[(df[\"feat_dim\"] == 21)&(df[\"gamma\"] == 0)]['err_train']\n",
    "e0train = np.stack(e0train.apply(lambda x: np.log10(np.percentile(x, [20, 50, 80]))))\n",
    "e0test = df[(df[\"feat_dim\"] == 21)&(df[\"gamma\"] == 0)]['err_test']\n",
    "e0test = np.stack(e0test.apply(lambda x: np.log10(np.percentile(x, [20, 50, 80]))))\n",
    "\n",
    "plt.plot(dims, e0test[:,1], color=c0, label=\"$\\\\gamma=0$\")\n",
    "\n",
    "e1train = df[(df[\"feat_dim\"] == 21)&(df[\"gamma\"] == 1)]['err_train']\n",
    "e1train = np.stack(e1train.apply(lambda x: np.log10(np.percentile(x, [20, 50, 80]))))\n",
    "e1test = df[(df[\"feat_dim\"] == 21)&(df[\"gamma\"] == 1)]['err_test']\n",
    "e1test = np.stack(e1test.apply(lambda x: np.log10(np.percentile(x, [20, 50, 80]))))\n",
    "ax.set_ylabel(\"$\\log_{10}$ RMSE\", fontdict={'size': 7})\n",
    "ax.set_xlabel(\"N input features\", fontdict={'size': 7})\n",
    "\n",
    "plt.plot(dims, e1test[:,1], color=c1, label=\"$\\\\gamma=1$\")\n",
    "plt.fill_between(dims, e1test[:,0], e1test[:,2], color=c1, alpha=0.5)\n",
    "plt.fill_between(dims, e0test[:,0], e0test[:,2], color=c0, alpha=0.5)\n",
    "plt.savefig(\"sv_prod_2.pdf\", bbox_inches='tight')"
   ]
  },
  {
   "cell_type": "code",
   "execution_count": 561,
   "metadata": {},
   "outputs": [
    {
     "data": {
      "image/png": "[encoded data removed]",
      "text/plain": [
       "<Figure size 113.386x85.0394 with 1 Axes>"
      ]
     },
     "metadata": {
      "needs_background": "light"
     },
     "output_type": "display_data"
    }
   ],
   "source": [
    "fig, ax = plt.subplots(figsize=(40*mm, 30*mm)) \n",
    "ax.spines['top'].set_visible(False)\n",
    "ax.spines['right'].set_visible(False)\n",
    "ax.set_title('N input features = 5', fontsize=7)\n",
    "\n",
    "c0 = \"darkorange\"\n",
    "c1 = \"cornflowerblue\"\n",
    "\n",
    "ax.tick_params(axis='both', labelsize=7)\n",
    "ax.set_xticks([1,20,40])\n",
    "ax.set_yticks([0,-7])\n",
    "dims = df[(df[\"dim\"] == 5)&(df[\"gamma\"] == 0)][\"feat_dim\"]\n",
    "e0train = df[(df[\"dim\"] == 5)&(df[\"gamma\"] == 0)]['err_train']\n",
    "e0train = np.stack(e0train.apply(lambda x: np.log10(np.percentile(x, [20, 50, 80]))))\n",
    "e0test = df[(df[\"dim\"] == 5)&(df[\"gamma\"] == 0)]['err_test']\n",
    "e0test = np.stack(e0test.apply(lambda x: np.log10(np.percentile(x, [20, 50, 80]))))\n",
    "\n",
    "plt.plot(dims, e0test[:,1], color=c0, label=\"$\\\\gamma=0$\")\n",
    "\n",
    "e1train = df[(df[\"dim\"] == 5)&(df[\"gamma\"] == 1)]['err_train']\n",
    "e1train = np.stack(e1train.apply(lambda x: np.log10(np.percentile(x, [20, 50, 80]))))\n",
    "e1test = df[(df[\"dim\"] == 5)&(df[\"gamma\"] == 1)]['err_test']\n",
    "e1test = np.stack(e1test.apply(lambda x: np.log10(np.percentile(x, [20, 50, 80]))))\n",
    "ax.set_ylabel(\"$\\\\log_{10}$ RMSE\", fontdict={'size': 7})\n",
    "ax.set_xlabel(\"N hidden dims\", fontdict={'size': 7})\n",
    "\n",
    "plt.plot(dims, e1test[:,1], color=c1, label=\"$\\\\gamma=1$\")\n",
    "plt.fill_between(dims, e1test[:,0], e1test[:,2], color=c1, alpha=0.5)\n",
    "plt.fill_between(dims, e0test[:,0], e0test[:,2], color=c0, alpha=0.5)\n",
    "ax.legend(loc=4, prop={'size': 7}, bbox_to_anchor=(1.0, .13))\n",
    "plt.savefig(\"sv_prod_3.pdf\", bbox_inches='tight')"
   ]
  }
 ],
 "metadata": {
  "kernelspec": {
   "display_name": "Python 3",
   "language": "python",
   "name": "python3"
  },
  "language_info": {
   "codemirror_mode": {
    "name": "ipython",
    "version": 3
   },
   "file_extension": ".py",
   "mimetype": "text/x-python",
   "name": "python",
   "nbconvert_exporter": "python",
   "pygments_lexer": "ipython3",
   "version": "3.12.1"
  }
 },
 "nbformat": 4,
 "nbformat_minor": 2
}
